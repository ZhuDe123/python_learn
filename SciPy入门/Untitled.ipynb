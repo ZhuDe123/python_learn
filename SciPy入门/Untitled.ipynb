{
 "cells": [
  {
   "cell_type": "markdown",
   "id": "7f4141e2",
   "metadata": {},
   "source": [
    "# SciPy 教程\n",
    "\n",
    "SciPy 是一个开源的 Python 算法库和数学工具包。\n",
    "\n",
    "Scipy 是基于 Numpy 的科学计算库，用于数学、科学、工程学等领域，很多有一些高阶抽象和物理模型需要使用 Scipy。\n",
    "\n",
    "SciPy 包含的模块有最优化、线性代数、积分、插值、特殊函数、快速傅里叶变换、信号处理和图像处理、常微分方程求解和其他科学与工程中常用的计算。\n",
    "\n",
    "### SciPy 应用\n",
    "Scipy 是一个用于数学、科学、工程领域的常用软件包，可以处理最优化、线性代数、积分、插值、拟合、特殊函数、快速傅里叶变换、信号处理、图像处理、常微分方程求解器等。 。\n",
    "\n",
    "SciPy 包含的模块有最优化、线性代数、积分、插值、特殊函数、快速傅里叶变换、信号处理和图像处理、常微分方程求解和其他科学与工程中常用的计算。\n",
    "\n",
    "NumPy 和 SciPy 的协同工作可以高效解决很多问题，在天文学、生物学、气象学和气候科学，以及材料科学等多个学科得到了广泛应用。"
   ]
  },
  {
   "cell_type": "markdown",
   "id": "54bda32f",
   "metadata": {},
   "source": [
    "### SciPy 模块列表\n",
    "以下列出了 SciPy 常用的一些模块及官网 API 地址：\n",
    "\n",
    "| 模块名               | 功能        | 参考文档             |\n",
    "|-------------------|-----------|------------------|\n",
    "| scipy.cluster     | 向量量化      | cluster API      |\n",
    "| scipy.constants   | 数学常量      | constants API    |\n",
    "| scipy.fft         | 快速傅里叶变换   | fft API          |\n",
    "| scipy.integrate   | 积分        | integrate API    |\n",
    "| scipy.interpolate | 插值        | interpolate API  |\n",
    "| scipy.io          | 数据输入输出    | io API           |\n",
    "| scipy.linalg      | 线性代数      | linalg API       |\n",
    "| scipy.misc        | 图像处理      | misc API         |\n",
    "| scipy.ndimage     | N 维图像     | ndimage API      |\n",
    "| scipy.odr         | 正交距离回归    | odr API          |\n",
    "| scipy.optimize    | 优化算法      | optimize API     |\n",
    "| scipy.signal      | 信号处理      | signal API       |\n",
    "| scipy.sparse      | 稀疏矩阵      | sparse API       |\n",
    "| scipy.spatial     | 空间数据结构和算法 | spatial API      |\n",
    "| scipy.special     | 特殊数学函数    | special API      |\n",
    "| scipy/stats       | 统计函数      | stats.mstats API |\n"
   ]
  },
  {
   "cell_type": "markdown",
   "id": "3ac5931a",
   "metadata": {},
   "source": [
    "E"
   ]
  },
  {
   "cell_type": "markdown",
   "id": "b53d97d8",
   "metadata": {},
   "source": []
  }
 ],
 "metadata": {
  "kernelspec": {
   "display_name": "Python 3 (ipykernel)",
   "language": "python",
   "name": "python3"
  },
  "language_info": {
   "codemirror_mode": {
    "name": "ipython",
    "version": 3
   },
   "file_extension": ".py",
   "mimetype": "text/x-python",
   "name": "python",
   "nbconvert_exporter": "python",
   "pygments_lexer": "ipython3",
   "version": "3.8.12"
  }
 },
 "nbformat": 4,
 "nbformat_minor": 5
}
